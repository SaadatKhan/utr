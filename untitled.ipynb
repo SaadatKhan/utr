{
 "cells": [
  {
   "cell_type": "code",
   "execution_count": null,
   "id": "82a0dcca",
   "metadata": {
    "vscode": {
     "languageId": "plaintext"
    }
   },
   "outputs": [],
   "source": [
    "# ── configuration ─────────────────────────────────────────────────────────\n",
    "CSV_PATH = \"results/hotpot_results_2025-06-24_21-43-09.csv\"   # ← change\n",
    "PUNCT    = str.maketrans(\"\", \"\", r\"\"\"!\"#$%&'()*+,-./:;<=>?@[\\]^_`{|}~\"\"\")\n",
    "\n",
    "# ── imports ───────────────────────────────────────────────────────────────\n",
    "import pandas as pd, sys, os\n",
    "\n",
    "# ── helpers ───────────────────────────────────────────────────────────────\n",
    "def norm(text: str) -> str:\n",
    "    \"\"\"Lower-case, strip punctuation, collapse whitespace.\"\"\"\n",
    "    if not isinstance(text, str):\n",
    "        return \"\"\n",
    "    t = text.lower().translate(PUNCT)\n",
    "    return \" \".join(t.split())\n",
    "\n",
    "def match_any(refs, cand: str) -> bool:\n",
    "    c = norm(cand)\n",
    "    return any(norm(r) in c for r in refs)\n",
    "\n",
    "# ── load CSV ───────────────────────────────────────────────────────────────\n",
    "df = pd.read_csv(CSV_PATH)\n",
    "\n",
    "# Columns we want to evaluate\n",
    "cols_to_check = [\"topk_answer\", \"diverse_answer\", \"no-context\"]\n",
    "\n",
    "# filter out any that are missing but warn once\n",
    "missing = [c for c in cols_to_check if c not in df.columns]\n",
    "if missing:\n",
    "    print(f\"Warning: column(s) {missing} not found in CSV; skipped.\")\n",
    "cols_to_check = [c for c in cols_to_check if c in df.columns]\n",
    "\n",
    "totals  = {c: 0 for c in cols_to_check}\n",
    "correct = {c: 0 for c in cols_to_check}\n",
    "\n",
    "# ── iterate rows ──────────────────────────────────────────────────────────\n",
    "for _, row in df.iterrows():\n",
    "    # ground_truth could be list-y or a semi-colon separated str\n",
    "    refs_raw = row[\"ground_truth\"]\n",
    "    refs = (refs_raw if isinstance(refs_raw, list)\n",
    "            else [r.strip() for r in str(refs_raw).split(\";\") if r.strip()])\n",
    "\n",
    "    for col in cols_to_check:\n",
    "        totals[col] += 1\n",
    "        if match_any(refs, row[col]):\n",
    "            correct[col] += 1\n",
    "\n",
    "# ── print & save summary ─────────────────────────────────────────────────\n",
    "summary_lines = [\"Accuracy:\"]\n",
    "for col in cols_to_check:\n",
    "    acc = 100 * correct[col] / totals[col] if totals[col] else 0.0\n",
    "    summary_lines.append(f\"  {col:<15}: {acc:5.2f}%  ({correct[col]}/{totals[col]})\")\n",
    "print(\"\\n\".join(summary_lines))\n",
    "\n",
    "summary_path = os.path.splitext(CSV_PATH)[0] + \"_eval.txt\"\n",
    "with open(summary_path, \"w\", encoding=\"utf-8\") as f:\n",
    "    f.write(\"\\n\".join(summary_lines) + \"\\n\")\n",
    "\n",
    "print(f\"\\nSummary written to {summary_path}\")\n"
   ]
  }
 ],
 "metadata": {
  "language_info": {
   "name": "python"
  }
 },
 "nbformat": 4,
 "nbformat_minor": 5
}
